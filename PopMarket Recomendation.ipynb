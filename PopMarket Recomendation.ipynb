{
 "cells": [
  {
   "cell_type": "markdown",
   "metadata": {},
   "source": [
    "# Recommendation Script\n",
    "## Customers who bought albums from this artist also purchased from the following artists\n",
    "### Upload a list of 'target' artist and get the top 10 recommende artists for each\n",
    "#### Use case:  The merchansizer of a  music flash deal site needs select upsell products for  the daily customer emails. She his planning out next weeks emails and needs to select recommendations for each offer."
   ]
  },
  {
   "cell_type": "code",
   "execution_count": 1,
   "metadata": {
    "collapsed": true
   },
   "outputs": [],
   "source": [
    "import pandas as pd\n",
    "import matplotlib\n",
    "import matplotlib.pyplot as plt\n",
    "%matplotlib inline\n",
    "\n",
    "from datetime import datetime"
   ]
  },
  {
   "cell_type": "markdown",
   "metadata": {},
   "source": [
    "## Import list of target artists (artists for which you'd like recommendations)"
   ]
  },
  {
   "cell_type": "code",
   "execution_count": 2,
   "metadata": {
    "collapsed": false
   },
   "outputs": [],
   "source": [
    "target_artists = pd.read_csv('~/Google Drive/DS_Projects/Artist_Recommendation/data/pm_target_artists.csv')\n",
    "target_artists = target_artists[['Artist']]"
   ]
  },
  {
   "cell_type": "code",
   "execution_count": 3,
   "metadata": {
    "collapsed": false
   },
   "outputs": [
    {
     "data": {
      "text/html": [
       "<div>\n",
       "<table border=\"1\" class=\"dataframe\">\n",
       "  <thead>\n",
       "    <tr style=\"text-align: right;\">\n",
       "      <th></th>\n",
       "      <th>Artist</th>\n",
       "    </tr>\n",
       "  </thead>\n",
       "  <tbody>\n",
       "    <tr>\n",
       "      <th>0</th>\n",
       "      <td>Miles Davis</td>\n",
       "    </tr>\n",
       "    <tr>\n",
       "      <th>1</th>\n",
       "      <td>Radiohead</td>\n",
       "    </tr>\n",
       "    <tr>\n",
       "      <th>2</th>\n",
       "      <td>Bob Dylan</td>\n",
       "    </tr>\n",
       "    <tr>\n",
       "      <th>3</th>\n",
       "      <td>Steve Earl</td>\n",
       "    </tr>\n",
       "    <tr>\n",
       "      <th>4</th>\n",
       "      <td>The Cure</td>\n",
       "    </tr>\n",
       "  </tbody>\n",
       "</table>\n",
       "</div>"
      ],
      "text/plain": [
       "        Artist\n",
       "0  Miles Davis\n",
       "1    Radiohead\n",
       "2    Bob Dylan\n",
       "3   Steve Earl\n",
       "4     The Cure"
      ]
     },
     "execution_count": 3,
     "metadata": {},
     "output_type": "execute_result"
    }
   ],
   "source": [
    "target_artists"
   ]
  },
  {
   "cell_type": "markdown",
   "metadata": {},
   "source": [
    "## Import Products and LineItems data and join on \"Email\""
   ]
  },
  {
   "cell_type": "code",
   "execution_count": 4,
   "metadata": {
    "collapsed": false
   },
   "outputs": [
    {
     "name": "stderr",
     "output_type": "stream",
     "text": [
      "/Users/steffen/anaconda/lib/python2.7/site-packages/IPython/core/interactiveshell.py:2717: DtypeWarning: Columns (6,12,14) have mixed types. Specify dtype option on import or set low_memory=False.\n",
      "  interactivity=interactivity, compiler=compiler, result=result)\n"
     ]
    }
   ],
   "source": [
    "products = pd.read_csv('~/Google Drive/DS_Projects/Artist_Recommendation/data/products_export.csv')\n",
    "df_prod = pd.DataFrame(products, columns = ['UPC', 'Artist', 'Title'])\n",
    "\n",
    "line_items = pd.read_csv('~/Google Drive/DS_Projects/Artist_Recommendation/data/pm_line_items_export.csv')\n",
    "line_items_df = pd.DataFrame(line_items, columns = ['Email','Lineitem_sku'])\n",
    "line_items_df.columns = ['Email', 'UPC']\n",
    "\n",
    "lines = pd.merge(line_items_df, df_prod, on= 'UPC' )\n"
   ]
  },
  {
   "cell_type": "markdown",
   "metadata": {},
   "source": [
    "## Group by Artist And Email and count number of rows ( = line items ordered)"
   ]
  },
  {
   "cell_type": "code",
   "execution_count": 5,
   "metadata": {
    "collapsed": false
   },
   "outputs": [],
   "source": [
    "usersGrp = lines.groupby([lines['Email'],lines['Artist']])\n",
    "usersArt = usersGrp['UPC'].count()\n",
    "usersArt = pd.DataFrame(usersArt).reset_index()"
   ]
  },
  {
   "cell_type": "markdown",
   "metadata": {},
   "source": [
    "## Write function to find the 10 most likely artists a customer will purchase given he has purchased the target artist."
   ]
  },
  {
   "cell_type": "code",
   "execution_count": 6,
   "metadata": {
    "collapsed": false
   },
   "outputs": [],
   "source": [
    "# write function to create list of top recommendation for ONE artist. Baysian: Given that a customer ordered on artist\n",
    "# what's the probability they'll order any of the other artists?\n",
    "\n",
    "def top10Rec(ArtistName):\n",
    "    # filter for users that have ordered the 'Target' artist\n",
    "    likeUsers = pd.DataFrame(usersArt['Email'][usersArt['Artist'] == ArtistName])\n",
    "    \n",
    "    # find all orders by these users\n",
    "    likeUsersArtist = pd.merge(usersArt,likeUsers, on = 'Email', how = 'inner')\n",
    "    \n",
    "    # group by the artists they've ordered\n",
    "    grUserByArtist = likeUsersArtist.groupby(likeUsersArtist['Artist'])\n",
    "\n",
    "    # how many orders did these users place for each artist\n",
    "    UsersByArtist = grUserByArtist.count()\n",
    "    UsersByArtist = UsersByArtist[['Email']]\n",
    "    UsersByArtist = UsersByArtist.reset_index()\n",
    "    \n",
    "    # Calculate the probability of them ordering that artist\n",
    "    UsersByArtist['Prob'] = UsersByArtist['Email']/len(likeUsers)\n",
    "    UsersByArtist = UsersByArtist.sort(['Email'],ascending = False)\n",
    "    UsersByArtist['OriginalArtist'] = ArtistName\n",
    "    top10 = UsersByArtist.iloc[1:11,:]\n",
    "    return(top10)\n",
    "\n"
   ]
  },
  {
   "cell_type": "code",
   "execution_count": 7,
   "metadata": {
    "collapsed": false
   },
   "outputs": [
    {
     "name": "stderr",
     "output_type": "stream",
     "text": [
      "/Users/steffen/anaconda/lib/python2.7/site-packages/ipykernel/__main__.py:21: FutureWarning: sort(columns=....) is deprecated, use sort_values(by=.....)\n"
     ]
    },
    {
     "data": {
      "text/html": [
       "<div>\n",
       "<table border=\"1\" class=\"dataframe\">\n",
       "  <thead>\n",
       "    <tr style=\"text-align: right;\">\n",
       "      <th></th>\n",
       "      <th>Artist</th>\n",
       "      <th>Email</th>\n",
       "      <th>Prob</th>\n",
       "      <th>OriginalArtist</th>\n",
       "    </tr>\n",
       "  </thead>\n",
       "  <tbody>\n",
       "    <tr>\n",
       "      <th>60</th>\n",
       "      <td>Black Sabbath</td>\n",
       "      <td>112</td>\n",
       "      <td>0.110236</td>\n",
       "      <td>Metallica</td>\n",
       "    </tr>\n",
       "    <tr>\n",
       "      <th>228</th>\n",
       "      <td>Iron Maiden</td>\n",
       "      <td>97</td>\n",
       "      <td>0.095472</td>\n",
       "      <td>Metallica</td>\n",
       "    </tr>\n",
       "    <tr>\n",
       "      <th>608</th>\n",
       "      <td>Various Artists</td>\n",
       "      <td>95</td>\n",
       "      <td>0.093504</td>\n",
       "      <td>Metallica</td>\n",
       "    </tr>\n",
       "    <tr>\n",
       "      <th>285</th>\n",
       "      <td>Led Zeppelin</td>\n",
       "      <td>86</td>\n",
       "      <td>0.084646</td>\n",
       "      <td>Metallica</td>\n",
       "    </tr>\n",
       "    <tr>\n",
       "      <th>7</th>\n",
       "      <td>AC/DC</td>\n",
       "      <td>70</td>\n",
       "      <td>0.068898</td>\n",
       "      <td>Metallica</td>\n",
       "    </tr>\n",
       "    <tr>\n",
       "      <th>380</th>\n",
       "      <td>Ozzy Osbourne</td>\n",
       "      <td>69</td>\n",
       "      <td>0.067913</td>\n",
       "      <td>Metallica</td>\n",
       "    </tr>\n",
       "    <tr>\n",
       "      <th>527</th>\n",
       "      <td>The Beatles</td>\n",
       "      <td>66</td>\n",
       "      <td>0.064961</td>\n",
       "      <td>Metallica</td>\n",
       "    </tr>\n",
       "    <tr>\n",
       "      <th>184</th>\n",
       "      <td>Foo Fighters</td>\n",
       "      <td>66</td>\n",
       "      <td>0.064961</td>\n",
       "      <td>Metallica</td>\n",
       "    </tr>\n",
       "    <tr>\n",
       "      <th>13</th>\n",
       "      <td>Aerosmith</td>\n",
       "      <td>64</td>\n",
       "      <td>0.062992</td>\n",
       "      <td>Metallica</td>\n",
       "    </tr>\n",
       "    <tr>\n",
       "      <th>130</th>\n",
       "      <td>Deftones</td>\n",
       "      <td>61</td>\n",
       "      <td>0.060039</td>\n",
       "      <td>Metallica</td>\n",
       "    </tr>\n",
       "  </tbody>\n",
       "</table>\n",
       "</div>"
      ],
      "text/plain": [
       "              Artist  Email      Prob OriginalArtist\n",
       "60     Black Sabbath    112  0.110236      Metallica\n",
       "228      Iron Maiden     97  0.095472      Metallica\n",
       "608  Various Artists     95  0.093504      Metallica\n",
       "285     Led Zeppelin     86  0.084646      Metallica\n",
       "7              AC/DC     70  0.068898      Metallica\n",
       "380    Ozzy Osbourne     69  0.067913      Metallica\n",
       "527      The Beatles     66  0.064961      Metallica\n",
       "184     Foo Fighters     66  0.064961      Metallica\n",
       "13         Aerosmith     64  0.062992      Metallica\n",
       "130         Deftones     61  0.060039      Metallica"
      ]
     },
     "execution_count": 7,
     "metadata": {},
     "output_type": "execute_result"
    }
   ],
   "source": [
    "top10Rec('Metallica')"
   ]
  },
  {
   "cell_type": "markdown",
   "metadata": {},
   "source": [
    "## Write function that take list of target artists as input and returns top 10 'likely to purchase' artists."
   ]
  },
  {
   "cell_type": "code",
   "execution_count": 8,
   "metadata": {
    "collapsed": false
   },
   "outputs": [],
   "source": [
    "def recommend(ArtistList):\n",
    "    recFinal = pd.DataFrame()\n",
    "    # loop over artist list\n",
    "    for Artist in ArtistList['Artist']:\n",
    "        rec = top10Rec(Artist)\n",
    "        recFinal = recFinal.append(rec)\n",
    "        recFinal = recFinal[['OriginalArtist','Artist','Prob']]\n",
    "        recFinal.to_csv('~/Google Drive/DS_Projects/Artist_Recommendation/output/pm_recommendations.csv')\n",
    "    return recFinal \n"
   ]
  },
  {
   "cell_type": "code",
   "execution_count": 9,
   "metadata": {
    "collapsed": false
   },
   "outputs": [
    {
     "name": "stderr",
     "output_type": "stream",
     "text": [
      "/Users/steffen/anaconda/lib/python2.7/site-packages/ipykernel/__main__.py:21: FutureWarning: sort(columns=....) is deprecated, use sort_values(by=.....)\n"
     ]
    }
   ],
   "source": [
    "test = recommend(target_artists)\n"
   ]
  },
  {
   "cell_type": "code",
   "execution_count": 10,
   "metadata": {
    "collapsed": false
   },
   "outputs": [
    {
     "data": {
      "text/html": [
       "<div>\n",
       "<table border=\"1\" class=\"dataframe\">\n",
       "  <thead>\n",
       "    <tr style=\"text-align: right;\">\n",
       "      <th></th>\n",
       "      <th>OriginalArtist</th>\n",
       "      <th>Artist</th>\n",
       "      <th>Prob</th>\n",
       "    </tr>\n",
       "  </thead>\n",
       "  <tbody>\n",
       "    <tr>\n",
       "      <th>208</th>\n",
       "      <td>Miles Davis</td>\n",
       "      <td>Jimi Hendrix</td>\n",
       "      <td>0.168421</td>\n",
       "    </tr>\n",
       "    <tr>\n",
       "      <th>51</th>\n",
       "      <td>Miles Davis</td>\n",
       "      <td>Bob Dylan</td>\n",
       "      <td>0.149123</td>\n",
       "    </tr>\n",
       "    <tr>\n",
       "      <th>240</th>\n",
       "      <td>Miles Davis</td>\n",
       "      <td>Led Zeppelin</td>\n",
       "      <td>0.140351</td>\n",
       "    </tr>\n",
       "    <tr>\n",
       "      <th>131</th>\n",
       "      <td>Miles Davis</td>\n",
       "      <td>Elvis Presley</td>\n",
       "      <td>0.121053</td>\n",
       "    </tr>\n",
       "    <tr>\n",
       "      <th>481</th>\n",
       "      <td>Miles Davis</td>\n",
       "      <td>The Rolling Stones</td>\n",
       "      <td>0.119298</td>\n",
       "    </tr>\n",
       "    <tr>\n",
       "      <th>518</th>\n",
       "      <td>Miles Davis</td>\n",
       "      <td>Various Artists</td>\n",
       "      <td>0.112281</td>\n",
       "    </tr>\n",
       "    <tr>\n",
       "      <th>66</th>\n",
       "      <td>Miles Davis</td>\n",
       "      <td>Buddy Guy</td>\n",
       "      <td>0.096491</td>\n",
       "    </tr>\n",
       "    <tr>\n",
       "      <th>445</th>\n",
       "      <td>Miles Davis</td>\n",
       "      <td>The Beatles</td>\n",
       "      <td>0.091228</td>\n",
       "    </tr>\n",
       "    <tr>\n",
       "      <th>42</th>\n",
       "      <td>Miles Davis</td>\n",
       "      <td>Black Sabbath</td>\n",
       "      <td>0.084211</td>\n",
       "    </tr>\n",
       "    <tr>\n",
       "      <th>327</th>\n",
       "      <td>Miles Davis</td>\n",
       "      <td>Paul McCartney</td>\n",
       "      <td>0.080702</td>\n",
       "    </tr>\n",
       "    <tr>\n",
       "      <th>260</th>\n",
       "      <td>Radiohead</td>\n",
       "      <td>The Beatles</td>\n",
       "      <td>0.133333</td>\n",
       "    </tr>\n",
       "    <tr>\n",
       "      <th>147</th>\n",
       "      <td>Radiohead</td>\n",
       "      <td>Lemonade</td>\n",
       "      <td>0.122222</td>\n",
       "    </tr>\n",
       "    <tr>\n",
       "      <th>61</th>\n",
       "      <td>Radiohead</td>\n",
       "      <td>David Bowie</td>\n",
       "      <td>0.088889</td>\n",
       "    </tr>\n",
       "    <tr>\n",
       "      <th>200</th>\n",
       "      <td>Radiohead</td>\n",
       "      <td>Pink Floyd</td>\n",
       "      <td>0.088889</td>\n",
       "    </tr>\n",
       "    <tr>\n",
       "      <th>35</th>\n",
       "      <td>Radiohead</td>\n",
       "      <td>Bob Dylan</td>\n",
       "      <td>0.088889</td>\n",
       "    </tr>\n",
       "    <tr>\n",
       "      <th>57</th>\n",
       "      <td>Radiohead</td>\n",
       "      <td>Daft Punk</td>\n",
       "      <td>0.088889</td>\n",
       "    </tr>\n",
       "    <tr>\n",
       "      <th>278</th>\n",
       "      <td>Radiohead</td>\n",
       "      <td>The Who</td>\n",
       "      <td>0.088889</td>\n",
       "    </tr>\n",
       "    <tr>\n",
       "      <th>224</th>\n",
       "      <td>Radiohead</td>\n",
       "      <td>Rush</td>\n",
       "      <td>0.088889</td>\n",
       "    </tr>\n",
       "    <tr>\n",
       "      <th>295</th>\n",
       "      <td>Radiohead</td>\n",
       "      <td>Various Artists</td>\n",
       "      <td>0.088889</td>\n",
       "    </tr>\n",
       "    <tr>\n",
       "      <th>37</th>\n",
       "      <td>Radiohead</td>\n",
       "      <td>Bob Marley</td>\n",
       "      <td>0.077778</td>\n",
       "    </tr>\n",
       "    <tr>\n",
       "      <th>544</th>\n",
       "      <td>Bob Dylan</td>\n",
       "      <td>The Rolling Stones</td>\n",
       "      <td>0.105723</td>\n",
       "    </tr>\n",
       "    <tr>\n",
       "      <th>585</th>\n",
       "      <td>Bob Dylan</td>\n",
       "      <td>Various Artists</td>\n",
       "      <td>0.103783</td>\n",
       "    </tr>\n",
       "    <tr>\n",
       "      <th>158</th>\n",
       "      <td>Bob Dylan</td>\n",
       "      <td>Elvis Presley</td>\n",
       "      <td>0.095053</td>\n",
       "    </tr>\n",
       "    <tr>\n",
       "      <th>505</th>\n",
       "      <td>Bob Dylan</td>\n",
       "      <td>The Beatles</td>\n",
       "      <td>0.092144</td>\n",
       "    </tr>\n",
       "    <tr>\n",
       "      <th>557</th>\n",
       "      <td>Bob Dylan</td>\n",
       "      <td>The Who</td>\n",
       "      <td>0.091174</td>\n",
       "    </tr>\n",
       "    <tr>\n",
       "      <th>351</th>\n",
       "      <td>Bob Dylan</td>\n",
       "      <td>Neil Young</td>\n",
       "      <td>0.089234</td>\n",
       "    </tr>\n",
       "    <tr>\n",
       "      <th>280</th>\n",
       "      <td>Bob Dylan</td>\n",
       "      <td>Led Zeppelin</td>\n",
       "      <td>0.088264</td>\n",
       "    </tr>\n",
       "    <tr>\n",
       "      <th>381</th>\n",
       "      <td>Bob Dylan</td>\n",
       "      <td>Paul McCartney</td>\n",
       "      <td>0.083414</td>\n",
       "    </tr>\n",
       "    <tr>\n",
       "      <th>325</th>\n",
       "      <td>Bob Dylan</td>\n",
       "      <td>Miles Davis</td>\n",
       "      <td>0.082444</td>\n",
       "    </tr>\n",
       "    <tr>\n",
       "      <th>372</th>\n",
       "      <td>Bob Dylan</td>\n",
       "      <td>Otis Redding</td>\n",
       "      <td>0.076625</td>\n",
       "    </tr>\n",
       "    <tr>\n",
       "      <th>432</th>\n",
       "      <td>The Cure</td>\n",
       "      <td>Various Artists</td>\n",
       "      <td>0.159836</td>\n",
       "    </tr>\n",
       "    <tr>\n",
       "      <th>226</th>\n",
       "      <td>The Cure</td>\n",
       "      <td>Metallica</td>\n",
       "      <td>0.139344</td>\n",
       "    </tr>\n",
       "    <tr>\n",
       "      <th>199</th>\n",
       "      <td>The Cure</td>\n",
       "      <td>Led Zeppelin</td>\n",
       "      <td>0.122951</td>\n",
       "    </tr>\n",
       "    <tr>\n",
       "      <th>79</th>\n",
       "      <td>The Cure</td>\n",
       "      <td>David Bowie</td>\n",
       "      <td>0.118852</td>\n",
       "    </tr>\n",
       "    <tr>\n",
       "      <th>246</th>\n",
       "      <td>The Cure</td>\n",
       "      <td>Neil Young</td>\n",
       "      <td>0.114754</td>\n",
       "    </tr>\n",
       "    <tr>\n",
       "      <th>331</th>\n",
       "      <td>The Cure</td>\n",
       "      <td>Sly &amp; The Family Stone</td>\n",
       "      <td>0.094262</td>\n",
       "    </tr>\n",
       "    <tr>\n",
       "      <th>411</th>\n",
       "      <td>The Cure</td>\n",
       "      <td>The Who</td>\n",
       "      <td>0.094262</td>\n",
       "    </tr>\n",
       "    <tr>\n",
       "      <th>34</th>\n",
       "      <td>The Cure</td>\n",
       "      <td>Black Sabbath</td>\n",
       "      <td>0.094262</td>\n",
       "    </tr>\n",
       "    <tr>\n",
       "      <th>9</th>\n",
       "      <td>The Cure</td>\n",
       "      <td>Alice Cooper</td>\n",
       "      <td>0.090164</td>\n",
       "    </tr>\n",
       "    <tr>\n",
       "      <th>264</th>\n",
       "      <td>The Cure</td>\n",
       "      <td>Ozzy Osbourne</td>\n",
       "      <td>0.090164</td>\n",
       "    </tr>\n",
       "  </tbody>\n",
       "</table>\n",
       "</div>"
      ],
      "text/plain": [
       "    OriginalArtist                  Artist      Prob\n",
       "208    Miles Davis            Jimi Hendrix  0.168421\n",
       "51     Miles Davis               Bob Dylan  0.149123\n",
       "240    Miles Davis            Led Zeppelin  0.140351\n",
       "131    Miles Davis           Elvis Presley  0.121053\n",
       "481    Miles Davis      The Rolling Stones  0.119298\n",
       "518    Miles Davis         Various Artists  0.112281\n",
       "66     Miles Davis               Buddy Guy  0.096491\n",
       "445    Miles Davis             The Beatles  0.091228\n",
       "42     Miles Davis           Black Sabbath  0.084211\n",
       "327    Miles Davis          Paul McCartney  0.080702\n",
       "260      Radiohead             The Beatles  0.133333\n",
       "147      Radiohead                Lemonade  0.122222\n",
       "61       Radiohead             David Bowie  0.088889\n",
       "200      Radiohead              Pink Floyd  0.088889\n",
       "35       Radiohead               Bob Dylan  0.088889\n",
       "57       Radiohead               Daft Punk  0.088889\n",
       "278      Radiohead                 The Who  0.088889\n",
       "224      Radiohead                    Rush  0.088889\n",
       "295      Radiohead         Various Artists  0.088889\n",
       "37       Radiohead              Bob Marley  0.077778\n",
       "544      Bob Dylan      The Rolling Stones  0.105723\n",
       "585      Bob Dylan         Various Artists  0.103783\n",
       "158      Bob Dylan           Elvis Presley  0.095053\n",
       "505      Bob Dylan             The Beatles  0.092144\n",
       "557      Bob Dylan                 The Who  0.091174\n",
       "351      Bob Dylan              Neil Young  0.089234\n",
       "280      Bob Dylan            Led Zeppelin  0.088264\n",
       "381      Bob Dylan          Paul McCartney  0.083414\n",
       "325      Bob Dylan             Miles Davis  0.082444\n",
       "372      Bob Dylan            Otis Redding  0.076625\n",
       "432       The Cure         Various Artists  0.159836\n",
       "226       The Cure               Metallica  0.139344\n",
       "199       The Cure            Led Zeppelin  0.122951\n",
       "79        The Cure             David Bowie  0.118852\n",
       "246       The Cure              Neil Young  0.114754\n",
       "331       The Cure  Sly & The Family Stone  0.094262\n",
       "411       The Cure                 The Who  0.094262\n",
       "34        The Cure           Black Sabbath  0.094262\n",
       "9         The Cure            Alice Cooper  0.090164\n",
       "264       The Cure           Ozzy Osbourne  0.090164"
      ]
     },
     "execution_count": 10,
     "metadata": {},
     "output_type": "execute_result"
    }
   ],
   "source": [
    "test"
   ]
  }
 ],
 "metadata": {
  "anaconda-cloud": {},
  "kernelspec": {
   "display_name": "Python [default]",
   "language": "python",
   "name": "python2"
  },
  "language_info": {
   "codemirror_mode": {
    "name": "ipython",
    "version": 2
   },
   "file_extension": ".py",
   "mimetype": "text/x-python",
   "name": "python",
   "nbconvert_exporter": "python",
   "pygments_lexer": "ipython2",
   "version": "2.7.12"
  }
 },
 "nbformat": 4,
 "nbformat_minor": 0
}
